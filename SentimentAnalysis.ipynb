{
 "cells": [
  {
   "cell_type": "markdown",
   "metadata": {},
   "source": [
    "## Sentiment Classification Model\n",
    "---\n",
    "\n",
    "This notebook utilizes a sentiment analysis dataset from [kaggle](https://www.kaggle.com/datasets/abhi8923shriv/sentiment-analysis-dataset)\n",
    "\n",
    "#### Context\n",
    "\n",
    "Every text can have a different sentiment, whether it be a positive, negative, or neutral sentiment. Traditionally, us humans try to gather what sentiment a text has through various patterns within the text, such as meaning of specific key words and what context they are used in. In this notebook, I wanted to explore how I could create a machine learning model that could categorize different texts into their respective sentiments. \n"
   ]
  },
  {
   "cell_type": "markdown",
   "metadata": {},
   "source": [
    "#### Importing libraries and data\n",
    "\n",
    "Here we will be importing all the necessary libraries along with importing the dataset and converting it into usable pandas dataframe"
   ]
  },
  {
   "cell_type": "code",
   "execution_count": 1,
   "metadata": {},
   "outputs": [],
   "source": [
    "import numpy as np\n",
    "import pandas as pd\n",
    "import tensorflow as tf\n",
    "import matplotlib.pyplot as plt\n",
    "import sklearn"
   ]
  },
  {
   "cell_type": "code",
   "execution_count": 3,
   "metadata": {},
   "outputs": [],
   "source": [
    "encoding = \"unicode_escape\"\n",
    "\n",
    "train_df = pd.read_csv(\"./data/SentimentAnalysis/train.csv\", encoding=encoding)\n",
    "test_df = pd.read_csv(\"./data/SentimentAnalysis/test.csv\", encoding=encoding)"
   ]
  },
  {
   "cell_type": "code",
   "execution_count": 4,
   "metadata": {},
   "outputs": [
    {
     "data": {
      "text/html": [
       "<div>\n",
       "<style scoped>\n",
       "    .dataframe tbody tr th:only-of-type {\n",
       "        vertical-align: middle;\n",
       "    }\n",
       "\n",
       "    .dataframe tbody tr th {\n",
       "        vertical-align: top;\n",
       "    }\n",
       "\n",
       "    .dataframe thead th {\n",
       "        text-align: right;\n",
       "    }\n",
       "</style>\n",
       "<table border=\"1\" class=\"dataframe\">\n",
       "  <thead>\n",
       "    <tr style=\"text-align: right;\">\n",
       "      <th></th>\n",
       "      <th>textID</th>\n",
       "      <th>text</th>\n",
       "      <th>selected_text</th>\n",
       "      <th>sentiment</th>\n",
       "      <th>Time of Tweet</th>\n",
       "      <th>Age of User</th>\n",
       "      <th>Country</th>\n",
       "      <th>Population -2020</th>\n",
       "      <th>Land Area (Km²)</th>\n",
       "      <th>Density (P/Km²)</th>\n",
       "    </tr>\n",
       "  </thead>\n",
       "  <tbody>\n",
       "    <tr>\n",
       "      <th>0</th>\n",
       "      <td>cb774db0d1</td>\n",
       "      <td>I`d have responded, if I were going</td>\n",
       "      <td>I`d have responded, if I were going</td>\n",
       "      <td>neutral</td>\n",
       "      <td>morning</td>\n",
       "      <td>0-20</td>\n",
       "      <td>Afghanistan</td>\n",
       "      <td>38928346</td>\n",
       "      <td>652860.0</td>\n",
       "      <td>60</td>\n",
       "    </tr>\n",
       "    <tr>\n",
       "      <th>1</th>\n",
       "      <td>549e992a42</td>\n",
       "      <td>Sooo SAD I will miss you here in San Diego!!!</td>\n",
       "      <td>Sooo SAD</td>\n",
       "      <td>negative</td>\n",
       "      <td>noon</td>\n",
       "      <td>21-30</td>\n",
       "      <td>Albania</td>\n",
       "      <td>2877797</td>\n",
       "      <td>27400.0</td>\n",
       "      <td>105</td>\n",
       "    </tr>\n",
       "    <tr>\n",
       "      <th>2</th>\n",
       "      <td>088c60f138</td>\n",
       "      <td>my boss is bullying me...</td>\n",
       "      <td>bullying me</td>\n",
       "      <td>negative</td>\n",
       "      <td>night</td>\n",
       "      <td>31-45</td>\n",
       "      <td>Algeria</td>\n",
       "      <td>43851044</td>\n",
       "      <td>2381740.0</td>\n",
       "      <td>18</td>\n",
       "    </tr>\n",
       "    <tr>\n",
       "      <th>3</th>\n",
       "      <td>9642c003ef</td>\n",
       "      <td>what interview! leave me alone</td>\n",
       "      <td>leave me alone</td>\n",
       "      <td>negative</td>\n",
       "      <td>morning</td>\n",
       "      <td>46-60</td>\n",
       "      <td>Andorra</td>\n",
       "      <td>77265</td>\n",
       "      <td>470.0</td>\n",
       "      <td>164</td>\n",
       "    </tr>\n",
       "    <tr>\n",
       "      <th>4</th>\n",
       "      <td>358bd9e861</td>\n",
       "      <td>Sons of ****, why couldn`t they put them on t...</td>\n",
       "      <td>Sons of ****,</td>\n",
       "      <td>negative</td>\n",
       "      <td>noon</td>\n",
       "      <td>60-70</td>\n",
       "      <td>Angola</td>\n",
       "      <td>32866272</td>\n",
       "      <td>1246700.0</td>\n",
       "      <td>26</td>\n",
       "    </tr>\n",
       "  </tbody>\n",
       "</table>\n",
       "</div>"
      ],
      "text/plain": [
       "       textID                                               text  \\\n",
       "0  cb774db0d1                I`d have responded, if I were going   \n",
       "1  549e992a42      Sooo SAD I will miss you here in San Diego!!!   \n",
       "2  088c60f138                          my boss is bullying me...   \n",
       "3  9642c003ef                     what interview! leave me alone   \n",
       "4  358bd9e861   Sons of ****, why couldn`t they put them on t...   \n",
       "\n",
       "                         selected_text sentiment Time of Tweet Age of User  \\\n",
       "0  I`d have responded, if I were going   neutral       morning        0-20   \n",
       "1                             Sooo SAD  negative          noon       21-30   \n",
       "2                          bullying me  negative         night       31-45   \n",
       "3                       leave me alone  negative       morning       46-60   \n",
       "4                        Sons of ****,  negative          noon       60-70   \n",
       "\n",
       "       Country  Population -2020  Land Area (Km²)  Density (P/Km²)  \n",
       "0  Afghanistan          38928346         652860.0               60  \n",
       "1      Albania           2877797          27400.0              105  \n",
       "2      Algeria          43851044        2381740.0               18  \n",
       "3      Andorra             77265            470.0              164  \n",
       "4       Angola          32866272        1246700.0               26  "
      ]
     },
     "execution_count": 4,
     "metadata": {},
     "output_type": "execute_result"
    }
   ],
   "source": [
    "train_df.head()"
   ]
  },
  {
   "cell_type": "markdown",
   "metadata": {},
   "source": [
    "Looking at the dataset, it seems we have 9 different categories:\n",
    "\n",
    "- `textID`\n",
    "- `text`\n",
    "- `selected_text`\n",
    "- `sentiment`\n",
    "- `Time of Tweet`\n",
    "- `Age of User`\n",
    "- `Country`\n",
    "- `Population-2020`\n",
    "- `Land Area (Km^2)`\n",
    "- `Density`\n",
    "\n",
    "Realistically, we only really need to account for two features which would be `text` and `sentiment`. `selected_text` is helpful in the sense that it garners the main text, however we want our model to be able to find those patterns that allow for these specified words to categorize a text into a specific sentiment. Everything else is just external information that is not really related to the text itself. We only care about looking for the patterns within the text.\n",
    "\n",
    "Let's clean up this dataset a bit.\n"
   ]
  },
  {
   "cell_type": "markdown",
   "metadata": {},
   "source": [
    "### Cleaning the Data\n",
    "\n",
    "First, lets drop all the rows that have null values"
   ]
  },
  {
   "cell_type": "code",
   "execution_count": 5,
   "metadata": {},
   "outputs": [
    {
     "name": "stdout",
     "output_type": "stream",
     "text": [
      "<class 'pandas.core.frame.DataFrame'>\n",
      "Index: 27480 entries, 0 to 27480\n",
      "Data columns (total 10 columns):\n",
      " #   Column            Non-Null Count  Dtype  \n",
      "---  ------            --------------  -----  \n",
      " 0   textID            27480 non-null  object \n",
      " 1   text              27480 non-null  object \n",
      " 2   selected_text     27480 non-null  object \n",
      " 3   sentiment         27480 non-null  object \n",
      " 4   Time of Tweet     27480 non-null  object \n",
      " 5   Age of User       27480 non-null  object \n",
      " 6   Country           27480 non-null  object \n",
      " 7   Population -2020  27480 non-null  int64  \n",
      " 8   Land Area (Km²)   27480 non-null  float64\n",
      " 9   Density (P/Km²)   27480 non-null  int64  \n",
      "dtypes: float64(1), int64(2), object(7)\n",
      "memory usage: 2.3+ MB\n"
     ]
    }
   ],
   "source": [
    "train_df = train_df.dropna()\n",
    "train_df.info()"
   ]
  },
  {
   "cell_type": "code",
   "execution_count": 6,
   "metadata": {},
   "outputs": [
    {
     "data": {
      "text/html": [
       "<div>\n",
       "<style scoped>\n",
       "    .dataframe tbody tr th:only-of-type {\n",
       "        vertical-align: middle;\n",
       "    }\n",
       "\n",
       "    .dataframe tbody tr th {\n",
       "        vertical-align: top;\n",
       "    }\n",
       "\n",
       "    .dataframe thead th {\n",
       "        text-align: right;\n",
       "    }\n",
       "</style>\n",
       "<table border=\"1\" class=\"dataframe\">\n",
       "  <thead>\n",
       "    <tr style=\"text-align: right;\">\n",
       "      <th></th>\n",
       "      <th>sentiment</th>\n",
       "      <th>text</th>\n",
       "    </tr>\n",
       "  </thead>\n",
       "  <tbody>\n",
       "    <tr>\n",
       "      <th>0</th>\n",
       "      <td>neutral</td>\n",
       "      <td>I`d have responded, if I were going</td>\n",
       "    </tr>\n",
       "    <tr>\n",
       "      <th>1</th>\n",
       "      <td>negative</td>\n",
       "      <td>Sooo SAD I will miss you here in San Diego!!!</td>\n",
       "    </tr>\n",
       "    <tr>\n",
       "      <th>2</th>\n",
       "      <td>negative</td>\n",
       "      <td>my boss is bullying me...</td>\n",
       "    </tr>\n",
       "    <tr>\n",
       "      <th>3</th>\n",
       "      <td>negative</td>\n",
       "      <td>what interview! leave me alone</td>\n",
       "    </tr>\n",
       "    <tr>\n",
       "      <th>4</th>\n",
       "      <td>negative</td>\n",
       "      <td>Sons of ****, why couldn`t they put them on t...</td>\n",
       "    </tr>\n",
       "    <tr>\n",
       "      <th>...</th>\n",
       "      <td>...</td>\n",
       "      <td>...</td>\n",
       "    </tr>\n",
       "    <tr>\n",
       "      <th>27476</th>\n",
       "      <td>negative</td>\n",
       "      <td>wish we could come see u on Denver  husband l...</td>\n",
       "    </tr>\n",
       "    <tr>\n",
       "      <th>27477</th>\n",
       "      <td>negative</td>\n",
       "      <td>I`ve wondered about rake to.  The client has ...</td>\n",
       "    </tr>\n",
       "    <tr>\n",
       "      <th>27478</th>\n",
       "      <td>positive</td>\n",
       "      <td>Yay good for both of you. Enjoy the break - y...</td>\n",
       "    </tr>\n",
       "    <tr>\n",
       "      <th>27479</th>\n",
       "      <td>positive</td>\n",
       "      <td>But it was worth it  ****.</td>\n",
       "    </tr>\n",
       "    <tr>\n",
       "      <th>27480</th>\n",
       "      <td>neutral</td>\n",
       "      <td>All this flirting going on - The ATG smiles...</td>\n",
       "    </tr>\n",
       "  </tbody>\n",
       "</table>\n",
       "<p>27480 rows × 2 columns</p>\n",
       "</div>"
      ],
      "text/plain": [
       "      sentiment                                               text\n",
       "0       neutral                I`d have responded, if I were going\n",
       "1      negative      Sooo SAD I will miss you here in San Diego!!!\n",
       "2      negative                          my boss is bullying me...\n",
       "3      negative                     what interview! leave me alone\n",
       "4      negative   Sons of ****, why couldn`t they put them on t...\n",
       "...         ...                                                ...\n",
       "27476  negative   wish we could come see u on Denver  husband l...\n",
       "27477  negative   I`ve wondered about rake to.  The client has ...\n",
       "27478  positive   Yay good for both of you. Enjoy the break - y...\n",
       "27479  positive                         But it was worth it  ****.\n",
       "27480   neutral     All this flirting going on - The ATG smiles...\n",
       "\n",
       "[27480 rows x 2 columns]"
      ]
     },
     "execution_count": 6,
     "metadata": {},
     "output_type": "execute_result"
    }
   ],
   "source": [
    "train_df[[\"sentiment\", \"text\"]]"
   ]
  },
  {
   "cell_type": "markdown",
   "metadata": {},
   "source": [
    "We can now also remove text that references users such as @username since they will not contribute to overall sentiment analysis"
   ]
  },
  {
   "cell_type": "code",
   "execution_count": 7,
   "metadata": {},
   "outputs": [],
   "source": [
    "train_df[\"text\"] = train_df[\"text\"].str.replace(r'@[\\w_]+', '')"
   ]
  },
  {
   "cell_type": "markdown",
   "metadata": {},
   "source": [
    "We also want to make sure that there is a relative equal number of each sentiment, so our model doesn't overfit to a specific sentiment"
   ]
  },
  {
   "cell_type": "code",
   "execution_count": 8,
   "metadata": {},
   "outputs": [
    {
     "data": {
      "text/plain": [
       "sentiment\n",
       "neutral     11117\n",
       "positive     8582\n",
       "negative     7781\n",
       "Name: count, dtype: int64"
      ]
     },
     "execution_count": 8,
     "metadata": {},
     "output_type": "execute_result"
    }
   ],
   "source": [
    "train_df[\"sentiment\"].value_counts()"
   ]
  },
  {
   "cell_type": "markdown",
   "metadata": {},
   "source": [
    "With there being an unequal amount, we can take the minimum number of sentiments (which is the negative in this case) and reduce the number of rows randomly from the other sentiments so each sentiment has an equal amount"
   ]
  },
  {
   "cell_type": "code",
   "execution_count": 9,
   "metadata": {},
   "outputs": [
    {
     "data": {
      "text/plain": [
       "7781"
      ]
     },
     "execution_count": 9,
     "metadata": {},
     "output_type": "execute_result"
    }
   ],
   "source": [
    "min_count = min(train_df[\"sentiment\"].value_counts())\n",
    "min_count"
   ]
  },
  {
   "cell_type": "code",
   "execution_count": 10,
   "metadata": {},
   "outputs": [],
   "source": [
    "balanced_train_df = pd.DataFrame(columns=[\"text\", \"sentiment\"])"
   ]
  },
  {
   "cell_type": "code",
   "execution_count": 11,
   "metadata": {},
   "outputs": [],
   "source": [
    "for sentiment in train_df[\"sentiment\"].unique():\n",
    "    sentiment_subset = train_df[train_df[\"sentiment\"] == sentiment]\n",
    "    balanced_subset = sentiment_subset.sample(n=min_count, random_state=1)\n",
    "    balanced_train_df = pd.concat([balanced_train_df, balanced_subset])"
   ]
  },
  {
   "cell_type": "code",
   "execution_count": 13,
   "metadata": {},
   "outputs": [],
   "source": [
    "balanced_train_df = balanced_train_df.sample(frac=1, random_state=1).reset_index(drop=True)"
   ]
  },
  {
   "cell_type": "code",
   "execution_count": 12,
   "metadata": {},
   "outputs": [
    {
     "data": {
      "text/plain": [
       "sentiment\n",
       "neutral     7781\n",
       "negative    7781\n",
       "positive    7781\n",
       "Name: count, dtype: int64"
      ]
     },
     "execution_count": 12,
     "metadata": {},
     "output_type": "execute_result"
    }
   ],
   "source": [
    "balanced_train_df[\"sentiment\"].value_counts()"
   ]
  },
  {
   "cell_type": "markdown",
   "metadata": {},
   "source": [
    "Now let's take a look at what our dataset looks like"
   ]
  },
  {
   "cell_type": "code",
   "execution_count": 13,
   "metadata": {},
   "outputs": [
    {
     "data": {
      "text/html": [
       "<div>\n",
       "<style scoped>\n",
       "    .dataframe tbody tr th:only-of-type {\n",
       "        vertical-align: middle;\n",
       "    }\n",
       "\n",
       "    .dataframe tbody tr th {\n",
       "        vertical-align: top;\n",
       "    }\n",
       "\n",
       "    .dataframe thead th {\n",
       "        text-align: right;\n",
       "    }\n",
       "</style>\n",
       "<table border=\"1\" class=\"dataframe\">\n",
       "  <thead>\n",
       "    <tr style=\"text-align: right;\">\n",
       "      <th></th>\n",
       "      <th>text</th>\n",
       "      <th>sentiment</th>\n",
       "      <th>textID</th>\n",
       "      <th>selected_text</th>\n",
       "      <th>Time of Tweet</th>\n",
       "      <th>Age of User</th>\n",
       "      <th>Country</th>\n",
       "      <th>Population -2020</th>\n",
       "      <th>Land Area (Km²)</th>\n",
       "      <th>Density (P/Km²)</th>\n",
       "    </tr>\n",
       "  </thead>\n",
       "  <tbody>\n",
       "    <tr>\n",
       "      <th>12458</th>\n",
       "      <td>I don`t know what this is all about  but I`m g...</td>\n",
       "      <td>neutral</td>\n",
       "      <td>548556fb49</td>\n",
       "      <td>I don`t know what this is all about  but I`m g...</td>\n",
       "      <td>night</td>\n",
       "      <td>31-45</td>\n",
       "      <td>Barbados</td>\n",
       "      <td>287375.0</td>\n",
       "      <td>430.0</td>\n",
       "      <td>668.0</td>\n",
       "    </tr>\n",
       "    <tr>\n",
       "      <th>11193</th>\n",
       "      <td>Hah!  Sparkly ones at that.</td>\n",
       "      <td>neutral</td>\n",
       "      <td>b027a5473f</td>\n",
       "      <td>Hah!  Sparkly ones at that.</td>\n",
       "      <td>morning</td>\n",
       "      <td>46-60</td>\n",
       "      <td>Democratic Republic of the Congo</td>\n",
       "      <td>89561403.0</td>\n",
       "      <td>2267050.0</td>\n",
       "      <td>40.0</td>\n",
       "    </tr>\n",
       "    <tr>\n",
       "      <th>24713</th>\n",
       "      <td>_agwl Talking to whom? This `Shah Rukh Khan` i...</td>\n",
       "      <td>neutral</td>\n",
       "      <td>021f556f61</td>\n",
       "      <td>_agwl Talking to whom? This `Shah Rukh Khan` i...</td>\n",
       "      <td>night</td>\n",
       "      <td>70-100</td>\n",
       "      <td>Kiribati</td>\n",
       "      <td>119449.0</td>\n",
       "      <td>810.0</td>\n",
       "      <td>147.0</td>\n",
       "    </tr>\n",
       "    <tr>\n",
       "      <th>23663</th>\n",
       "      <td>why r y depressed?  i mite b moving earlyer t...</td>\n",
       "      <td>neutral</td>\n",
       "      <td>75929f0ab9</td>\n",
       "      <td>why r y depressed?  i mite b moving earlyer th...</td>\n",
       "      <td>night</td>\n",
       "      <td>70-100</td>\n",
       "      <td>Portugal</td>\n",
       "      <td>10196709.0</td>\n",
       "      <td>91590.0</td>\n",
       "      <td>111.0</td>\n",
       "    </tr>\n",
       "    <tr>\n",
       "      <th>7371</th>\n",
       "      <td>I hate sitting at the doctors office! They tol...</td>\n",
       "      <td>neutral</td>\n",
       "      <td>4da2acbf81</td>\n",
       "      <td>I hate sitting at the doctors office! They tol...</td>\n",
       "      <td>morning</td>\n",
       "      <td>46-60</td>\n",
       "      <td>Micronesia</td>\n",
       "      <td>115023.0</td>\n",
       "      <td>700.0</td>\n",
       "      <td>164.0</td>\n",
       "    </tr>\n",
       "    <tr>\n",
       "      <th>...</th>\n",
       "      <td>...</td>\n",
       "      <td>...</td>\n",
       "      <td>...</td>\n",
       "      <td>...</td>\n",
       "      <td>...</td>\n",
       "      <td>...</td>\n",
       "      <td>...</td>\n",
       "      <td>...</td>\n",
       "      <td>...</td>\n",
       "      <td>...</td>\n",
       "    </tr>\n",
       "    <tr>\n",
       "      <th>8827</th>\n",
       "      <td>*hugs*  I`m so sorry.. anything I can do?</td>\n",
       "      <td>positive</td>\n",
       "      <td>b78beab7b8</td>\n",
       "      <td>I`m so sorry.</td>\n",
       "      <td>noon</td>\n",
       "      <td>21-30</td>\n",
       "      <td>Iceland</td>\n",
       "      <td>341243.0</td>\n",
       "      <td>100250.0</td>\n",
       "      <td>3.0</td>\n",
       "    </tr>\n",
       "    <tr>\n",
       "      <th>23342</th>\n",
       "      <td>Happy Baby Mommas Day!!  to all the&gt;&gt; MOMMAS&lt;&lt;...</td>\n",
       "      <td>positive</td>\n",
       "      <td>9b59214560</td>\n",
       "      <td>Happy</td>\n",
       "      <td>night</td>\n",
       "      <td>31-45</td>\n",
       "      <td>Barbados</td>\n",
       "      <td>287375.0</td>\n",
       "      <td>430.0</td>\n",
       "      <td>668.0</td>\n",
       "    </tr>\n",
       "    <tr>\n",
       "      <th>15452</th>\n",
       "      <td>I`m only telling the truth..... You know you...</td>\n",
       "      <td>positive</td>\n",
       "      <td>62d3507f98</td>\n",
       "      <td>ow you have skills</td>\n",
       "      <td>night</td>\n",
       "      <td>31-45</td>\n",
       "      <td>Burkina Faso</td>\n",
       "      <td>20903273.0</td>\n",
       "      <td>273600.0</td>\n",
       "      <td>76.0</td>\n",
       "    </tr>\n",
       "    <tr>\n",
       "      <th>6686</th>\n",
       "      <td>Good morning MiaMiaDC  My weekend was great a...</td>\n",
       "      <td>positive</td>\n",
       "      <td>1c2e845644</td>\n",
       "      <td>a wonderfu</td>\n",
       "      <td>night</td>\n",
       "      <td>31-45</td>\n",
       "      <td>Bahamas</td>\n",
       "      <td>393244.0</td>\n",
       "      <td>10010.0</td>\n",
       "      <td>39.0</td>\n",
       "    </tr>\n",
       "    <tr>\n",
       "      <th>6874</th>\n",
       "      <td>nice .. I can`t ever get that from my ex!</td>\n",
       "      <td>positive</td>\n",
       "      <td>39168d7e12</td>\n",
       "      <td>nice</td>\n",
       "      <td>noon</td>\n",
       "      <td>60-70</td>\n",
       "      <td>Angola</td>\n",
       "      <td>32866272.0</td>\n",
       "      <td>1246700.0</td>\n",
       "      <td>26.0</td>\n",
       "    </tr>\n",
       "  </tbody>\n",
       "</table>\n",
       "<p>23343 rows × 10 columns</p>\n",
       "</div>"
      ],
      "text/plain": [
       "                                                    text sentiment  \\\n",
       "12458  I don`t know what this is all about  but I`m g...   neutral   \n",
       "11193                        Hah!  Sparkly ones at that.   neutral   \n",
       "24713  _agwl Talking to whom? This `Shah Rukh Khan` i...   neutral   \n",
       "23663   why r y depressed?  i mite b moving earlyer t...   neutral   \n",
       "7371   I hate sitting at the doctors office! They tol...   neutral   \n",
       "...                                                  ...       ...   \n",
       "8827           *hugs*  I`m so sorry.. anything I can do?  positive   \n",
       "23342  Happy Baby Mommas Day!!  to all the>> MOMMAS<<...  positive   \n",
       "15452    I`m only telling the truth..... You know you...  positive   \n",
       "6686    Good morning MiaMiaDC  My weekend was great a...  positive   \n",
       "6874           nice .. I can`t ever get that from my ex!  positive   \n",
       "\n",
       "           textID                                      selected_text  \\\n",
       "12458  548556fb49  I don`t know what this is all about  but I`m g...   \n",
       "11193  b027a5473f                        Hah!  Sparkly ones at that.   \n",
       "24713  021f556f61  _agwl Talking to whom? This `Shah Rukh Khan` i...   \n",
       "23663  75929f0ab9  why r y depressed?  i mite b moving earlyer th...   \n",
       "7371   4da2acbf81  I hate sitting at the doctors office! They tol...   \n",
       "...           ...                                                ...   \n",
       "8827   b78beab7b8                                      I`m so sorry.   \n",
       "23342  9b59214560                                              Happy   \n",
       "15452  62d3507f98                                 ow you have skills   \n",
       "6686   1c2e845644                                         a wonderfu   \n",
       "6874   39168d7e12                                               nice   \n",
       "\n",
       "      Time of Tweet Age of User                           Country  \\\n",
       "12458         night       31-45                          Barbados   \n",
       "11193       morning       46-60  Democratic Republic of the Congo   \n",
       "24713         night      70-100                          Kiribati   \n",
       "23663         night      70-100                          Portugal   \n",
       "7371        morning       46-60                        Micronesia   \n",
       "...             ...         ...                               ...   \n",
       "8827           noon       21-30                           Iceland   \n",
       "23342         night       31-45                          Barbados   \n",
       "15452         night       31-45                      Burkina Faso   \n",
       "6686          night       31-45                           Bahamas   \n",
       "6874           noon       60-70                            Angola   \n",
       "\n",
       "       Population -2020  Land Area (Km²)  Density (P/Km²)  \n",
       "12458          287375.0            430.0            668.0  \n",
       "11193        89561403.0        2267050.0             40.0  \n",
       "24713          119449.0            810.0            147.0  \n",
       "23663        10196709.0          91590.0            111.0  \n",
       "7371           115023.0            700.0            164.0  \n",
       "...                 ...              ...              ...  \n",
       "8827           341243.0         100250.0              3.0  \n",
       "23342          287375.0            430.0            668.0  \n",
       "15452        20903273.0         273600.0             76.0  \n",
       "6686           393244.0          10010.0             39.0  \n",
       "6874         32866272.0        1246700.0             26.0  \n",
       "\n",
       "[23343 rows x 10 columns]"
      ]
     },
     "execution_count": 13,
     "metadata": {},
     "output_type": "execute_result"
    }
   ],
   "source": [
    "balanced_train_df"
   ]
  },
  {
   "cell_type": "markdown",
   "metadata": {},
   "source": [
    "### Data Preprocessing\n",
    "\n",
    "Now let's start preprocessing our data so we can use it within our model. We'll first Tokenize our data using tensorflow's Tokenizer utility"
   ]
  },
  {
   "cell_type": "code",
   "execution_count": 14,
   "metadata": {},
   "outputs": [],
   "source": [
    "from tensorflow.keras.preprocessing.text import Tokenizer"
   ]
  },
  {
   "cell_type": "markdown",
   "metadata": {},
   "source": [
    "We'll set the max number of words to 5000 and create our Tokenizer"
   ]
  },
  {
   "cell_type": "code",
   "execution_count": 15,
   "metadata": {},
   "outputs": [],
   "source": [
    "MAX_WORDS = 5000\n",
    "\n",
    "tokenizer = Tokenizer(num_words=MAX_WORDS, oov_token=\"<OOV>\")"
   ]
  },
  {
   "cell_type": "code",
   "execution_count": 16,
   "metadata": {},
   "outputs": [],
   "source": [
    "balanced_train_df[\"text_copy\"] = balanced_train_df[\"text\"]"
   ]
  },
  {
   "cell_type": "code",
   "execution_count": 17,
   "metadata": {},
   "outputs": [],
   "source": [
    "tokenizer.fit_on_texts(balanced_train_df[\"text\"])"
   ]
  },
  {
   "cell_type": "markdown",
   "metadata": {},
   "source": [
    "We'll then save the word_index so we can use it to translate from Numerical Values to text"
   ]
  },
  {
   "cell_type": "code",
   "execution_count": 20,
   "metadata": {},
   "outputs": [],
   "source": [
    "word_index = tokenizer.word_index"
   ]
  },
  {
   "cell_type": "code",
   "execution_count": 45,
   "metadata": {},
   "outputs": [],
   "source": [
    "balanced_train_df[\"sequenced_text\"] = tokenizer.texts_to_sequences(balanced_train_df[\"text\"])\n",
    "balanced_train_df[\"X_train\"] = balanced_train_df[\"sequenced_text\"].tolist()"
   ]
  },
  {
   "cell_type": "markdown",
   "metadata": {},
   "source": [
    "Now let's see what our dataset looks like"
   ]
  },
  {
   "cell_type": "code",
   "execution_count": 55,
   "metadata": {},
   "outputs": [
    {
     "data": {
      "text/html": [
       "<div>\n",
       "<style scoped>\n",
       "    .dataframe tbody tr th:only-of-type {\n",
       "        vertical-align: middle;\n",
       "    }\n",
       "\n",
       "    .dataframe tbody tr th {\n",
       "        vertical-align: top;\n",
       "    }\n",
       "\n",
       "    .dataframe thead th {\n",
       "        text-align: right;\n",
       "    }\n",
       "</style>\n",
       "<table border=\"1\" class=\"dataframe\">\n",
       "  <thead>\n",
       "    <tr style=\"text-align: right;\">\n",
       "      <th></th>\n",
       "      <th>text</th>\n",
       "      <th>sentiment</th>\n",
       "      <th>textID</th>\n",
       "      <th>selected_text</th>\n",
       "      <th>Time of Tweet</th>\n",
       "      <th>Age of User</th>\n",
       "      <th>Country</th>\n",
       "      <th>Population -2020</th>\n",
       "      <th>Land Area (Km²)</th>\n",
       "      <th>Density (P/Km²)</th>\n",
       "      <th>text_copy</th>\n",
       "      <th>sequenced_text</th>\n",
       "      <th>X_train</th>\n",
       "    </tr>\n",
       "  </thead>\n",
       "  <tbody>\n",
       "    <tr>\n",
       "      <th>12458</th>\n",
       "      <td>I don`t know what this is all about  but I`m g...</td>\n",
       "      <td>neutral</td>\n",
       "      <td>548556fb49</td>\n",
       "      <td>I don`t know what this is all about  but I`m g...</td>\n",
       "      <td>night</td>\n",
       "      <td>31-45</td>\n",
       "      <td>Barbados</td>\n",
       "      <td>287375.0</td>\n",
       "      <td>430.0</td>\n",
       "      <td>668.0</td>\n",
       "      <td>I don`t know what this is all about  but I`m g...</td>\n",
       "      <td>[2, 64, 14, 60, 53, 32, 10, 30, 67, 21, 2, 22,...</td>\n",
       "      <td>[2, 64, 14, 60, 53, 32, 10, 30, 67, 21, 2, 22,...</td>\n",
       "    </tr>\n",
       "    <tr>\n",
       "      <th>11193</th>\n",
       "      <td>Hah!  Sparkly ones at that.</td>\n",
       "      <td>neutral</td>\n",
       "      <td>b027a5473f</td>\n",
       "      <td>Hah!  Sparkly ones at that.</td>\n",
       "      <td>morning</td>\n",
       "      <td>46-60</td>\n",
       "      <td>Democratic Republic of the Congo</td>\n",
       "      <td>89561403.0</td>\n",
       "      <td>2267050.0</td>\n",
       "      <td>40.0</td>\n",
       "      <td>Hah!  Sparkly ones at that.</td>\n",
       "      <td>[1805, 1, 543, 28, 16]</td>\n",
       "      <td>[1805, 1, 543, 28, 16]</td>\n",
       "    </tr>\n",
       "    <tr>\n",
       "      <th>24713</th>\n",
       "      <td>_agwl Talking to whom? This `Shah Rukh Khan` i...</td>\n",
       "      <td>neutral</td>\n",
       "      <td>021f556f61</td>\n",
       "      <td>_agwl Talking to whom? This `Shah Rukh Khan` i...</td>\n",
       "      <td>night</td>\n",
       "      <td>70-100</td>\n",
       "      <td>Kiribati</td>\n",
       "      <td>119449.0</td>\n",
       "      <td>810.0</td>\n",
       "      <td>147.0</td>\n",
       "      <td>_agwl Talking to whom? This `Shah Rukh Khan` i...</td>\n",
       "      <td>[1, 507, 3, 3133, 32, 1, 1, 1, 10, 96, 1, 93, ...</td>\n",
       "      <td>[1, 507, 3, 3133, 32, 1, 1, 1, 10, 96, 1, 93, ...</td>\n",
       "    </tr>\n",
       "    <tr>\n",
       "      <th>23663</th>\n",
       "      <td>why r y depressed?  i mite b moving earlyer t...</td>\n",
       "      <td>neutral</td>\n",
       "      <td>75929f0ab9</td>\n",
       "      <td>why r y depressed?  i mite b moving earlyer th...</td>\n",
       "      <td>night</td>\n",
       "      <td>70-100</td>\n",
       "      <td>Portugal</td>\n",
       "      <td>10196709.0</td>\n",
       "      <td>91590.0</td>\n",
       "      <td>111.0</td>\n",
       "      <td>why r y depressed?  i mite b moving earlyer t...</td>\n",
       "      <td>[117, 371, 585, 1306, 2, 3523, 327, 694, 1, 19...</td>\n",
       "      <td>[117, 371, 585, 1306, 2, 3523, 327, 694, 1, 19...</td>\n",
       "    </tr>\n",
       "    <tr>\n",
       "      <th>7371</th>\n",
       "      <td>I hate sitting at the doctors office! They tol...</td>\n",
       "      <td>neutral</td>\n",
       "      <td>4da2acbf81</td>\n",
       "      <td>I hate sitting at the doctors office! They tol...</td>\n",
       "      <td>morning</td>\n",
       "      <td>46-60</td>\n",
       "      <td>Micronesia</td>\n",
       "      <td>115023.0</td>\n",
       "      <td>700.0</td>\n",
       "      <td>164.0</td>\n",
       "      <td>I hate sitting at the doctors office! They tol...</td>\n",
       "      <td>[2, 150, 475, 28, 4, 2354, 438, 73, 535, 17, 1...</td>\n",
       "      <td>[2, 150, 475, 28, 4, 2354, 438, 73, 535, 17, 1...</td>\n",
       "    </tr>\n",
       "  </tbody>\n",
       "</table>\n",
       "</div>"
      ],
      "text/plain": [
       "                                                    text sentiment  \\\n",
       "12458  I don`t know what this is all about  but I`m g...   neutral   \n",
       "11193                        Hah!  Sparkly ones at that.   neutral   \n",
       "24713  _agwl Talking to whom? This `Shah Rukh Khan` i...   neutral   \n",
       "23663   why r y depressed?  i mite b moving earlyer t...   neutral   \n",
       "7371   I hate sitting at the doctors office! They tol...   neutral   \n",
       "\n",
       "           textID                                      selected_text  \\\n",
       "12458  548556fb49  I don`t know what this is all about  but I`m g...   \n",
       "11193  b027a5473f                        Hah!  Sparkly ones at that.   \n",
       "24713  021f556f61  _agwl Talking to whom? This `Shah Rukh Khan` i...   \n",
       "23663  75929f0ab9  why r y depressed?  i mite b moving earlyer th...   \n",
       "7371   4da2acbf81  I hate sitting at the doctors office! They tol...   \n",
       "\n",
       "      Time of Tweet Age of User                           Country  \\\n",
       "12458         night       31-45                          Barbados   \n",
       "11193       morning       46-60  Democratic Republic of the Congo   \n",
       "24713         night      70-100                          Kiribati   \n",
       "23663         night      70-100                          Portugal   \n",
       "7371        morning       46-60                        Micronesia   \n",
       "\n",
       "       Population -2020  Land Area (Km²)  Density (P/Km²)  \\\n",
       "12458          287375.0            430.0            668.0   \n",
       "11193        89561403.0        2267050.0             40.0   \n",
       "24713          119449.0            810.0            147.0   \n",
       "23663        10196709.0          91590.0            111.0   \n",
       "7371           115023.0            700.0            164.0   \n",
       "\n",
       "                                               text_copy  \\\n",
       "12458  I don`t know what this is all about  but I`m g...   \n",
       "11193                        Hah!  Sparkly ones at that.   \n",
       "24713  _agwl Talking to whom? This `Shah Rukh Khan` i...   \n",
       "23663   why r y depressed?  i mite b moving earlyer t...   \n",
       "7371   I hate sitting at the doctors office! They tol...   \n",
       "\n",
       "                                          sequenced_text  \\\n",
       "12458  [2, 64, 14, 60, 53, 32, 10, 30, 67, 21, 2, 22,...   \n",
       "11193                             [1805, 1, 543, 28, 16]   \n",
       "24713  [1, 507, 3, 3133, 32, 1, 1, 1, 10, 96, 1, 93, ...   \n",
       "23663  [117, 371, 585, 1306, 2, 3523, 327, 694, 1, 19...   \n",
       "7371   [2, 150, 475, 28, 4, 2354, 438, 73, 535, 17, 1...   \n",
       "\n",
       "                                                 X_train  \n",
       "12458  [2, 64, 14, 60, 53, 32, 10, 30, 67, 21, 2, 22,...  \n",
       "11193                             [1805, 1, 543, 28, 16]  \n",
       "24713  [1, 507, 3, 3133, 32, 1, 1, 1, 10, 96, 1, 93, ...  \n",
       "23663  [117, 371, 585, 1306, 2, 3523, 327, 694, 1, 19...  \n",
       "7371   [2, 150, 475, 28, 4, 2354, 438, 73, 535, 17, 1...  "
      ]
     },
     "execution_count": 55,
     "metadata": {},
     "output_type": "execute_result"
    }
   ],
   "source": [
    "balanced_train_df.head()"
   ]
  },
  {
   "cell_type": "markdown",
   "metadata": {},
   "source": [
    "Let's pad our sequences so each text is an array of equal length (in this case a length of 5000)"
   ]
  },
  {
   "cell_type": "code",
   "execution_count": 56,
   "metadata": {},
   "outputs": [],
   "source": [
    "from tensorflow.keras.preprocessing.sequence import pad_sequences"
   ]
  },
  {
   "cell_type": "markdown",
   "metadata": {},
   "source": [
    "After padding, each array representing the text is now of equal length."
   ]
  },
  {
   "cell_type": "code",
   "execution_count": 66,
   "metadata": {},
   "outputs": [
    {
     "data": {
      "text/plain": [
       "array([[   0,    0,    0, ...,  608,    3,  133],\n",
       "       [   0,    0,    0, ...,  543,   28,   16],\n",
       "       [   0,    0,    0, ...,   13,    4,  257],\n",
       "       ...,\n",
       "       [   0,    0,    0, ...,    8,   20, 2339],\n",
       "       [   0,    0,    0, ...,    5,  542,   24],\n",
       "       [   0,    0,    0, ...,   54,    6, 2218]], dtype=int32)"
      ]
     },
     "execution_count": 66,
     "metadata": {},
     "output_type": "execute_result"
    }
   ],
   "source": [
    "X_train = pad_sequences(balanced_train_df[\"X_train\"], maxlen=5000)\n",
    "X_train"
   ]
  },
  {
   "cell_type": "markdown",
   "metadata": {},
   "source": [
    "Now let's remap our sentiments so that they're numerical values instead of negative, neutral and positive"
   ]
  },
  {
   "cell_type": "code",
   "execution_count": 69,
   "metadata": {},
   "outputs": [],
   "source": [
    "sentiment_mapping = {\"negative\": 0, \"neutral\": 1, \"positive\": 2}\n",
    "y_train = balanced_train_df[\"sentiment\"].replace(sentiment_mapping)\n"
   ]
  },
  {
   "cell_type": "code",
   "execution_count": 70,
   "metadata": {},
   "outputs": [
    {
     "data": {
      "text/plain": [
       "12458    1\n",
       "11193    1\n",
       "24713    1\n",
       "23663    1\n",
       "7371     1\n",
       "        ..\n",
       "8827     2\n",
       "23342    2\n",
       "15452    2\n",
       "6686     2\n",
       "6874     2\n",
       "Name: sentiment, Length: 23343, dtype: int64"
      ]
     },
     "execution_count": 70,
     "metadata": {},
     "output_type": "execute_result"
    }
   ],
   "source": [
    "y_train"
   ]
  },
  {
   "cell_type": "markdown",
   "metadata": {},
   "source": [
    "Furthremore, we want to one hot encode the numbers as well, so we'll use sklearn's to_categorical utility for this."
   ]
  },
  {
   "cell_type": "code",
   "execution_count": 62,
   "metadata": {},
   "outputs": [],
   "source": [
    "from sklearn.model_selection import train_test_split\n",
    "from tensorflow.keras.utils import to_categorical"
   ]
  },
  {
   "cell_type": "code",
   "execution_count": 71,
   "metadata": {},
   "outputs": [],
   "source": [
    "X_train, X_test, y_train, y_test = train_test_split(X_train, y_train, test_size = 0.2, shuffle=True)\n",
    "y_train = to_categorical(y_train)\n",
    "y_test = to_categorical(y_test)"
   ]
  },
  {
   "cell_type": "code",
   "execution_count": 73,
   "metadata": {},
   "outputs": [
    {
     "data": {
      "text/plain": [
       "array([[0., 0., 1.],\n",
       "       [0., 1., 0.],\n",
       "       [0., 0., 1.],\n",
       "       ...,\n",
       "       [0., 0., 1.],\n",
       "       [0., 0., 1.],\n",
       "       [0., 0., 1.]], dtype=float32)"
      ]
     },
     "execution_count": 73,
     "metadata": {},
     "output_type": "execute_result"
    }
   ],
   "source": [
    "y_train"
   ]
  },
  {
   "cell_type": "markdown",
   "metadata": {},
   "source": [
    "### Creating our model\n",
    "\n",
    "For our model, we will be using a [model based on this academic paper](https://arxiv.org/abs/2307.06540) that was also trained on a sentiment analysis dataset."
   ]
  },
  {
   "cell_type": "code",
   "execution_count": 89,
   "metadata": {},
   "outputs": [],
   "source": [
    "from tensorflow.keras.layers import Embedding, Dense, Dropout, Input, LSTM, GRU, SpatialDropout1D, Conv1D, GlobalMaxPooling1D\n",
    "from tensorflow.keras.models import Model\n",
    "import matplotlib.pyplot as plt"
   ]
  },
  {
   "cell_type": "code",
   "execution_count": 90,
   "metadata": {},
   "outputs": [
    {
     "name": "stdout",
     "output_type": "stream",
     "text": [
      "Model: \"sequential_1\"\n",
      "_________________________________________________________________\n",
      " Layer (type)                Output Shape              Param #   \n",
      "=================================================================\n",
      " embedding_8 (Embedding)     (None, 5000, 50)          250000    \n",
      "                                                                 \n",
      " dropout_13 (Dropout)        (None, 5000, 50)          0         \n",
      "                                                                 \n",
      " conv1d_7 (Conv1D)           (None, 4998, 250)         37750     \n",
      "                                                                 \n",
      " global_max_pooling1d_6 (Gl  (None, 250)               0         \n",
      " obalMaxPooling1D)                                               \n",
      "                                                                 \n",
      " dense_10 (Dense)            (None, 250)               62750     \n",
      "                                                                 \n",
      " dropout_14 (Dropout)        (None, 250)               0         \n",
      "                                                                 \n",
      " dense_11 (Dense)            (None, 3)                 753       \n",
      "                                                                 \n",
      "=================================================================\n",
      "Total params: 351253 (1.34 MB)\n",
      "Trainable params: 351253 (1.34 MB)\n",
      "Non-trainable params: 0 (0.00 Byte)\n",
      "_________________________________________________________________\n"
     ]
    }
   ],
   "source": [
    "# Define the model\n",
    "model = tf.keras.Sequential()\n",
    "\n",
    "# 1) Embedding Layer\n",
    "model.add(Embedding(input_dim=5000, output_dim=50, input_length=5000))\n",
    "\n",
    "# 2) Dropout Layer\n",
    "model.add(Dropout(0.2))\n",
    "\n",
    "# 3) Convolutional Layer (Conv1D)\n",
    "model.add(Conv1D(filters=250, kernel_size=3, activation='relu', strides=1))\n",
    "\n",
    "# 4) GlobalMaxPooling1D Layer\n",
    "model.add(GlobalMaxPooling1D())\n",
    "\n",
    "# 5) Dense (Fully Connected) Layer\n",
    "model.add(Dense(250, activation='relu'))\n",
    "\n",
    "# 6) Dropout Layer\n",
    "model.add(Dropout(0.2))\n",
    "\n",
    "# 7) Output Layer\n",
    "model.add(Dense(3, activation='softmax'))  # 3 output neurons for 3 sentiment categories\n",
    "\n",
    "# Compile the model\n",
    "model.compile(loss='categorical_crossentropy', optimizer='adam', metrics=['accuracy'])\n",
    "\n",
    "# Display the model summary\n",
    "model.summary()\n"
   ]
  },
  {
   "cell_type": "markdown",
   "metadata": {},
   "source": [
    "### Training our model\n",
    "\n",
    "Now let's see how our model does. We'll train it with a batch size of 256 and for 10 epochs"
   ]
  },
  {
   "cell_type": "code",
   "execution_count": 91,
   "metadata": {},
   "outputs": [
    {
     "name": "stdout",
     "output_type": "stream",
     "text": [
      "Epoch 1/10\n"
     ]
    },
    {
     "name": "stderr",
     "output_type": "stream",
     "text": [
      "2023-10-26 23:29:56.907888: I tensorflow/core/grappler/optimizers/custom_graph_optimizer_registry.cc:117] Plugin optimizer for device_type GPU is enabled.\n"
     ]
    },
    {
     "name": "stdout",
     "output_type": "stream",
     "text": [
      "59/59 [==============================] - 66s 1s/step - loss: 1.0448 - accuracy: 0.4522 - val_loss: 0.8431 - val_accuracy: 0.6169\n",
      "Epoch 2/10\n",
      "59/59 [==============================] - 55s 940ms/step - loss: 0.7289 - accuracy: 0.6854 - val_loss: 0.6920 - val_accuracy: 0.7087\n",
      "Epoch 3/10\n",
      "59/59 [==============================] - 51s 858ms/step - loss: 0.5956 - accuracy: 0.7564 - val_loss: 0.6859 - val_accuracy: 0.7167\n",
      "Epoch 4/10\n",
      "59/59 [==============================] - 50s 840ms/step - loss: 0.5168 - accuracy: 0.7956 - val_loss: 0.7134 - val_accuracy: 0.7167\n",
      "Epoch 5/10\n",
      "59/59 [==============================] - 48s 813ms/step - loss: 0.4481 - accuracy: 0.8283 - val_loss: 0.7762 - val_accuracy: 0.7055\n",
      "Epoch 6/10\n",
      "59/59 [==============================] - 47s 805ms/step - loss: 0.3921 - accuracy: 0.8539 - val_loss: 0.8486 - val_accuracy: 0.7052\n",
      "Epoch 7/10\n",
      "59/59 [==============================] - 46s 780ms/step - loss: 0.3420 - accuracy: 0.8734 - val_loss: 0.9399 - val_accuracy: 0.6937\n",
      "Epoch 8/10\n",
      "59/59 [==============================] - 45s 767ms/step - loss: 0.3066 - accuracy: 0.8904 - val_loss: 1.0079 - val_accuracy: 0.6881\n",
      "Epoch 9/10\n",
      "59/59 [==============================] - 45s 764ms/step - loss: 0.2644 - accuracy: 0.9064 - val_loss: 1.1013 - val_accuracy: 0.6857\n",
      "Epoch 10/10\n",
      "59/59 [==============================] - 44s 744ms/step - loss: 0.2337 - accuracy: 0.9200 - val_loss: 1.1823 - val_accuracy: 0.6859\n"
     ]
    }
   ],
   "source": [
    "batchsize = 256\n",
    "epochs =  10\n",
    "\n",
    "# Fit model\n",
    "history = model.fit(X_train, y_train, batch_size=batchsize, epochs=epochs, validation_split=0.2, shuffle=True)"
   ]
  },
  {
   "cell_type": "markdown",
   "metadata": {},
   "source": [
    "### Results\n",
    "\n",
    "Let's plot our results"
   ]
  },
  {
   "cell_type": "code",
   "execution_count": 92,
   "metadata": {},
   "outputs": [
    {
     "data": {
      "image/png": "[encoded data removed]",
      "text/plain": [
       "<Figure size 640x480 with 1 Axes>"
      ]
     },
     "metadata": {},
     "output_type": "display_data"
    },
    {
     "data": {
      "image/png": "[encoded data removed]",
      "text/plain": [
       "<Figure size 640x480 with 1 Axes>"
      ]
     },
     "metadata": {},
     "output_type": "display_data"
    }
   ],
   "source": [
    "plt.plot(history.history['loss'])\n",
    "plt.plot(history.history['val_loss'])\n",
    "plt.title('Model Loss')\n",
    "plt.ylabel('Loss')\n",
    "plt.xlabel('Epochs')\n",
    "plt.legend(['train', 'val'])\n",
    "plt.show()\n",
    "\n",
    "plt.plot(history.history['accuracy'])\n",
    "plt.plot(history.history['val_accuracy'])\n",
    "plt.title('Model Accuracy')\n",
    "plt.ylabel('Accuracy')\n",
    "plt.xlabel('Epochs')\n",
    "plt.legend(['train', 'val'])\n",
    "plt.ylim([0,1])\n",
    "plt.show()"
   ]
  },
  {
   "cell_type": "markdown",
   "metadata": {},
   "source": [
    "We were able to attain an accuracy of 92% which is actually pretty good! Let's test our model out on generic text. I'm using encode and decode functions written during a previous machine learning class project."
   ]
  },
  {
   "cell_type": "code",
   "execution_count": 99,
   "metadata": {},
   "outputs": [],
   "source": [
    "import string, textwrap\n",
    "\n",
    "def encode(review, word_dict, maxlen):\n",
    "  encoded_review = []\n",
    "  for raw_word in review.split(' '):\n",
    "    word = raw_word.strip().strip(string.punctuation).lower()\n",
    "    if word == '' or word == '\\n':\n",
    "      continue\n",
    "    try:\n",
    "      encoded_review.append(word_dict[word])\n",
    "    except KeyError as e:\n",
    "      # raise KeyError(f'{e} not in word dictionary, review not encoded.')\n",
    "      continue\n",
    "  return pad_sequences(np.array(encoded_review).reshape(1,-1), maxlen=maxlen)\n",
    "\n",
    "def decode(encoded_review, inverse_word_dict):\n",
    "  sentence = []\n",
    "  for encoded_word in encoded_review:\n",
    "    if encoded_word == 0:\n",
    "      continue\n",
    "    sentence.append(inverse_word_dict[encoded_word])\n",
    "  w = textwrap.TextWrapper(width=120,break_long_words=False,replace_whitespace=False)\n",
    "  return '\\n'.join(w.wrap(' '.join(sentence)))"
   ]
  },
  {
   "cell_type": "code",
   "execution_count": 115,
   "metadata": {},
   "outputs": [
    {
     "name": "stdout",
     "output_type": "stream",
     "text": [
      "1/1 [==============================] - 0s 17ms/step\n"
     ]
    },
    {
     "data": {
      "text/plain": [
       "array([[9.9909711e-01, 9.0275181e-04, 1.7724659e-07]], dtype=float32)"
      ]
     },
     "execution_count": 115,
     "metadata": {},
     "output_type": "execute_result"
    }
   ],
   "source": [
    "testScript = \"I hate this model\"\n",
    "test = encode(testScript, word_index, 5000)\n",
    "model.predict(test)"
   ]
  },
  {
   "cell_type": "markdown",
   "metadata": {},
   "source": [
    "It looks like it predicts it's a negative sentiment! Seems like it's working pretty well! Let's set it so that it's more readable"
   ]
  },
  {
   "cell_type": "code",
   "execution_count": 98,
   "metadata": {},
   "outputs": [],
   "source": [
    "word_dict = word_index"
   ]
  },
  {
   "cell_type": "code",
   "execution_count": 100,
   "metadata": {},
   "outputs": [],
   "source": [
    "inverse_word_dict = {value:key for key,value in word_dict.items()}"
   ]
  },
  {
   "cell_type": "code",
   "execution_count": 127,
   "metadata": {},
   "outputs": [],
   "source": [
    "def testModel(script):\n",
    "    test = encode(script, word_index, 5000)\n",
    "    value= model.predict(test)\n",
    "    value = np.round(value, 3)\n",
    "    return value"
   ]
  },
  {
   "cell_type": "code",
   "execution_count": 131,
   "metadata": {},
   "outputs": [
    {
     "name": "stdout",
     "output_type": "stream",
     "text": [
      "1/1 [==============================] - 0s 14ms/step\n",
      "[[0.    0.001 0.999]]\n"
     ]
    }
   ],
   "source": [
    "print((testModel(\"I love you\")))"
   ]
  },
  {
   "cell_type": "markdown",
   "metadata": {},
   "source": [
    "Now we can save our model and utilize it in different applications"
   ]
  },
  {
   "cell_type": "code",
   "execution_count": 132,
   "metadata": {},
   "outputs": [
    {
     "name": "stderr",
     "output_type": "stream",
     "text": [
      "/Users/ethandomingo/Documents/CODING/tensorflow-test/env/lib/python3.10/site-packages/keras/src/engine/training.py:3079: UserWarning: You are saving your model as an HDF5 file via `model.save()`. This file format is considered legacy. We recommend using instead the native Keras format, e.g. `model.save('my_model.keras')`.\n",
      "  saving_api.save_model(\n"
     ]
    }
   ],
   "source": [
    "model.save(\"trained_models/sentimentAnalysisModel.h5\")"
   ]
  },
  {
   "cell_type": "code",
   "execution_count": 133,
   "metadata": {},
   "outputs": [],
   "source": [
    "import json\n"
   ]
  },
  {
   "cell_type": "code",
   "execution_count": 134,
   "metadata": {},
   "outputs": [],
   "source": [
    "with open(\"word_dict.json\", \"w\") as f:\n",
    "    json.dump(word_index, f)"
   ]
  }
 ],
 "metadata": {
  "kernelspec": {
   "display_name": "Python 3 (ipykernel)",
   "language": "python",
   "name": "python3"
  }
 },
 "nbformat": 4,
 "nbformat_minor": 2
}
